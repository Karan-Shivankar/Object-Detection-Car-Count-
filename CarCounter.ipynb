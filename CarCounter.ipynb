{
 "cells": [
  {
   "cell_type": "code",
   "execution_count": 2,
   "id": "772a1f51-b69f-4d10-9101-2f1ed1ce147e",
   "metadata": {},
   "outputs": [],
   "source": [
    "import cv2"
   ]
  },
  {
   "cell_type": "code",
   "execution_count": 3,
   "id": "2fcaca6d-072b-4f84-aaa4-e8aced843f66",
   "metadata": {},
   "outputs": [],
   "source": [
    "import numpy as np"
   ]
  },
  {
   "cell_type": "code",
   "execution_count": null,
   "id": "06628647-d0ed-44be-818e-7e25e7599624",
   "metadata": {},
   "outputs": [
    {
     "name": "stdout",
     "output_type": "stream",
     "text": [
      "Count :1\n",
      "Count :2\n",
      "Count :3\n",
      "Count :4\n",
      "Count :5\n",
      "Count :6\n",
      "Count :7\n",
      "Count :8\n",
      "Count :9\n",
      "Count :10\n",
      "Count :11\n",
      "Count :12\n",
      "Count :13\n",
      "Count :14\n"
     ]
    }
   ],
   "source": [
    "# Open video file\n",
    "cap = cv2.VideoCapture(r\"C:\\Users\\shiva\\Downloads\\videoplayback.mp4\")\n",
    "\n",
    "min_width_react = 80  # min width rectangle\n",
    "min_height_react = 80  # min height rectangle\n",
    "\n",
    "count_line_position = 595\n",
    "# initialize Subtractor\n",
    "algo = cv2.bgsegm.createBackgroundSubtractorMOG()\n",
    "\n",
    "def center_handle(x, y, w, h):  # count the car\n",
    "    x1 = int(w/2)\n",
    "    y1 = int(h/2)\n",
    "    cx = x + x1\n",
    "    cy = y + y1\n",
    "    return cx, cy\n",
    "\n",
    "detect = []\n",
    "\n",
    "offset=6 # allowable error between pixel\n",
    "counter = 0\n",
    "\n",
    "while True:\n",
    "    gret, frame1 = cap.read()\n",
    "    \n",
    "    # Check if frame was read successfully\n",
    "    if not gret:\n",
    "        print(\"End of video or failed to read frame\")\n",
    "        break\n",
    "    \n",
    "    # Check if frame is not empty\n",
    "    if frame1 is None:\n",
    "        print(\"Frame is empty\")\n",
    "        break\n",
    "    \n",
    "    grey = cv2.cvtColor(frame1, cv2.COLOR_BGR2GRAY)\n",
    "    blur = cv2.GaussianBlur(grey, (3, 3), 5)\n",
    "    \n",
    "    # applying on each frame\n",
    "    img_sub = algo.apply(blur)\n",
    "    dilate = cv2.dilate(img_sub, np.ones((5, 5)))\n",
    "    kernel = cv2.getStructuringElement(cv2.MORPH_ELLIPSE, (5, 5))\n",
    "    dilatada = cv2.morphologyEx(dilate, cv2.MORPH_CLOSE, kernel)\n",
    "    \n",
    "    # Fixed: Use correct variable name and return values\n",
    "    contours, hierarchy = cv2.findContours(dilatada, cv2.RETR_TREE, cv2.CHAIN_APPROX_SIMPLE)\n",
    "    \n",
    "    cv2.line(frame1, (25, count_line_position), (2100, count_line_position), (255, 0, 0), 5)\n",
    "\n",
    "    for c in contours:\n",
    "        (x, y, w, h) = cv2.boundingRect(c)\n",
    "        validate_counter = (w>= min_width_react) and (h>= min_height_react)\n",
    "        \n",
    "        if not validate_counter:\n",
    "            continue\n",
    "        \n",
    "        cv2.rectangle(frame1, (x, y), (x + w, y + h), (0, 255, 0),6)\n",
    "        cv2.putText(frame1, \"Count\"+str(counter),(x,y-20), cv2.FONT_HERSHEY_TRIPLEX, 2,(255,255,255,5))\n",
    "        center = center_handle(x, y, w, h)\n",
    "        detect.append(center)\n",
    "        cv2.circle(frame1, center, 4, (0, 0, 55),-1)\n",
    "\n",
    "        for (x,y) in detect:\n",
    "            if y<(count_line_position+offset) and y>(count_line_position-offset):\n",
    "                counter+=1\n",
    "                cv2.line(frame1,(25,count_line_position), (2100,count_line_position),(0,0,255),5)\n",
    "                detect.remove((x,y))\n",
    "                print(\"Count :\"+str(counter))\n",
    "\n",
    "    cv2.putText(frame1,\"Count :\"+str(counter),(450,70),cv2.FONT_HERSHEY_SIMPLEX,2,(0,0,0),4)\n",
    "        \n",
    "\n",
    "        \n",
    "\n",
    "    # Display the frame (removed duplicate cap.read())\n",
    "    resized_frame = cv2.resize(frame1, (700, 500))\n",
    "    cv2.imshow(\"Video\", resized_frame)\n",
    "    \n",
    "    # Press 'q' to quit or ESC key\n",
    "    key = cv2.waitKey(30) & 0xFF\n",
    "    if key == ord('k') or key == 27:  # ESC key\n",
    "        break\n",
    "\n",
    "# Release everything\n",
    "cap.release()\n",
    "cv2.destroyAllWindows()"
   ]
  },
  {
   "cell_type": "code",
   "execution_count": null,
   "id": "b67ec53a-9162-4f0a-916d-e63c11ffb871",
   "metadata": {},
   "outputs": [],
   "source": []
  }
 ],
 "metadata": {
  "kernelspec": {
   "display_name": "Python 3 (ipykernel)",
   "language": "python",
   "name": "python3"
  },
  "language_info": {
   "codemirror_mode": {
    "name": "ipython",
    "version": 3
   },
   "file_extension": ".py",
   "mimetype": "text/x-python",
   "name": "python",
   "nbconvert_exporter": "python",
   "pygments_lexer": "ipython3",
   "version": "3.11.5"
  }
 },
 "nbformat": 4,
 "nbformat_minor": 5
}
